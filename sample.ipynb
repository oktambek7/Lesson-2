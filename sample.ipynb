{
 "cells": [
  {
   "cell_type": "markdown",
   "metadata": {},
   "source": [
    "classes\n",
    "iheritance\n",
    "property\n"
   ]
  },
  {
   "cell_type": "code",
   "execution_count": null,
   "metadata": {},
   "outputs": [
    {
     "name": "stdout",
     "output_type": "stream",
     "text": [
      "Person(name='Adam', age=12)\n"
     ]
    },
    {
     "data": {
      "text/plain": [
       "12"
      ]
     },
     "execution_count": 8,
     "metadata": {},
     "output_type": "execute_result"
    }
   ],
   "source": [
    "class Person:\n",
    "    def __init__(self, name, age):\n",
    "        if not isinstance(name, str) or name=='':\n",
    "            raise ValueError(f\"name can not be{name!r}\")\n",
    "        self.__name=name\n",
    "        if not isinstance(age, int) or age<0:\n",
    "            raise ValueError(f\"age ca not be {age!r}\")\n",
    "        self.__age=age\n",
    "    def set_name(self, name):\n",
    "        if not isinstance(name, str ) or name=='':\n",
    "            raise ValueError(f\"name can not be {name!r}\")\n",
    "        self.__name=name\n",
    "    def get_name(self):\n",
    "        return self.__name\n",
    "    def set_age(self, age):\n",
    "        if not isinstance(age, int) or age<0:\n",
    "            raise ValueError(f\"age can not be {age!r}\")\n",
    "        self.__age=age\n",
    "    def get_age(self):\n",
    "        return self.__age\n",
    "    def __str__(self):\n",
    "        return f\"Person(name={self.__name!r}, age={self.__age!r})\"\n",
    "p1=Person(name=\"O'KTAM\", age=18)\n",
    "p1.set_name('Adam')\n",
    "p1.set_age(12)\n",
    "print(p1)\n",
    "p1.get_age()\n",
    "        \n",
    "        "
   ]
  },
  {
   "cell_type": "code",
   "execution_count": 23,
   "metadata": {},
   "outputs": [
    {
     "name": "stdout",
     "output_type": "stream",
     "text": [
      "My favourite colour is Black and my favourite number is 7 !\n"
     ]
    }
   ],
   "source": [
    "class Person:\n",
    "    def __init__(self, fav_colour, fav_num):\n",
    "        \n",
    "        self.fav_colour=fav_colour\n",
    "        self.fav_num=fav_num\n",
    "    \n",
    "    def something(self):\n",
    "        print(f\"My favourite colour is {self.fav_colour} and my favourite number is {self.fav_num} !\")\n",
    "    \n",
    "job=Person(\"Black\", \"7\")\n",
    "job.something()"
   ]
  },
  {
   "cell_type": "markdown",
   "metadata": {},
   "source": [
    "Task 1\n",
    "\n",
    "Write a script called temperature.py that defines two functions:\n",
    "\n",
    "    convert_cel_to_far() which takes one float parameter representing degrees Celsius and returns a float representing the same temperature in degrees Fahrenheit using the following formula: F = C * 9/5 + 32\n",
    "    convert_far_to_cel() which take one float parameter representing degrees Fahrenheit and returns a float representing the same temperature in degrees Celsius using the following formula: C = (F - 32) * 5/9\n",
    "\n",
    "The script should first prompt the user to enter a temperature in degrees Fahrenheit and then display the temperature converted to Celsius. Then prompt the user to enter a temperature in degrees Celsius and display the temperature converted to Fahrenheit. All converted temperatures should be rounded to 2 decimal places.\n",
    "\n",
    "Here’s a sample run of the program:\n",
    "\n",
    "Enter a temperature in degrees F: 72\n",
    "72 degrees F = 22.22 degrees C\n",
    "\n",
    "Enter a temperature in degrees C: 37\n",
    "37 degrees C = 98.60 degrees F\n"
   ]
  },
  {
   "cell_type": "code",
   "execution_count": 42,
   "metadata": {},
   "outputs": [
    {
     "name": "stdout",
     "output_type": "stream",
     "text": [
      "194.0\n"
     ]
    }
   ],
   "source": [
    "class Temperature:\n",
    "    def __init__(self, C):\n",
    "        self.C=C\n",
    "    def _cel_to_far(self):\n",
    "        return self.C * 9/5 + 32\n",
    "    \n",
    "temp=Temperature(90)\n",
    "\n",
    "print(temp._cel_to_far())\n",
    "        \n",
    "            "
   ]
  },
  {
   "cell_type": "code",
   "execution_count": null,
   "metadata": {},
   "outputs": [],
   "source": [
    "class Temperature:\n",
    "    def __init__(self, F):\n",
    "        self.F=F\n",
    "        \n",
    "    def far_to_cel(self):\n",
    "        return round((self.F - 32) * 5/9, 2)\n",
    "    \n",
    "a=float(input(\"Enter the number in Farheit: \"))\n",
    "formatted_num=\"{:.2f}\".format(a)\n",
    "print(f\"Formatted input: {formatted_num}\")\n",
    "\n",
    "temp = Temperature(a)\n",
    "print(f\"Converted to Celsius: {temp.far_to_cel():.2f}\")"
   ]
  },
  {
   "cell_type": "code",
   "execution_count": null,
   "metadata": {},
   "outputs": [],
   "source": [
    "class Temperature:\n",
    "    def __init__(self, C):\n",
    "        self.C=C\n",
    "        \n",
    "    def cel_to_far(self):\n",
    "        return round(self.C * 9/5 + 32, 2)\n",
    "    \n",
    "a=float(input(\"Enter the number in Celcius: \"))\n",
    "formatted_num=\"{:.2f}\".format(a)\n",
    "print(f\"Formatted input: {formatted_num}\")\n",
    "\n",
    "temp = Temperature(a)\n",
    "print(f\"Converted to Faranheit: {temp.cel_to_far():.2f}\")"
   ]
  },
  {
   "cell_type": "markdown",
   "metadata": {},
   "source": [
    "Task 2\n",
    "\n",
    "In this challenge, you will write a program called invest.py that tracks the growing amount of an investment over time.\n",
    "\n",
    "An initial deposit, called the principal amount, is made. Each year, the amount increases by a fixed percentage, called the annual rate of return.\n",
    "\n",
    "For example, a principal amount of $100 with an annual rate of return of 5% increases the first year by $5. The second year, the increase is 5% of the new amount $105, which is $5.25.\n",
    "\n",
    "Write a function called invest with three parameters: the principal amount, the annual rate of return, and the number of years to calculate. The function signature might look something like this:\n",
    "\n",
    "def invest(amount, rate, years):\n",
    "\n",
    "The function then prints out the amount of the investment, rounded to 2 decimal places, at the end of each year for the specified number of years.\n",
    "\n",
    "For example, calling invest(100, .05, 4) should print the following:\n",
    "\n",
    "year 1: $105.00\n",
    "year 2: $110.25\n",
    "year 3: $115.76\n",
    "year 4: $121.55\n",
    "\n",
    "To finish the program, prompt the user to enter an initial amount, an annual percentage rate, and a number of years. Then call invest() to display the calculations for the values entered by the user."
   ]
  },
  {
   "cell_type": "code",
   "execution_count": null,
   "metadata": {},
   "outputs": [],
   "source": [
    "def invest(amount, rate, years):\n",
    "    for year in range(1, years+1):\n",
    "     amount*=(1+rate)\n",
    "     print(f\"{years} year(s): ${amount:.2f}\")\n",
    "     \n",
    "initial_amount=float(input(\"Enter an initial amount: \"))\n",
    "annual_rate=float(input(\"Enter annual rate: \"))/100\n",
    "years=int(input(\"Enter the years: \"))\n",
    "\n",
    "print(invest(initial_amount,annual_rate,years))\n",
    "    \n",
    "    "
   ]
  },
  {
   "cell_type": "markdown",
   "metadata": {},
   "source": [
    "A factor of a positive integer n is any positive integer less than or equal to n that divides n with no remainder.\n",
    "\n",
    "For example, 3 is a factor of 12 because 12 divided by 3 is 4, with no remainder. However, 5 is not a factor of 12 because 5 goes into 12 twice with a remainder of 2.\n",
    "\n",
    "Write a script factors.py that asks the user to input a positive integer and then prints out the factors of that number. Here’s a sample run of the program with output:\n",
    "\n",
    "Enter a positive integer: 12\n",
    "1 is a factor of 12\n",
    "2 is a factor of 12\n",
    "3 is a factor of 12\n",
    "4 is a factor of 12\n",
    "6 is a factor of 12\n",
    "12 is a factor of 12\n"
   ]
  },
  {
   "cell_type": "code",
   "execution_count": null,
   "metadata": {},
   "outputs": [],
   "source": [
    "def Factors(num):\n",
    "    print(f\"Factors of {num} are:\", end=\" \")\n",
    "    for i in range(1, num + 1):\n",
    "        if num % i == 0:\n",
    "            print(i, end=\" \")\n",
    "    print()  # Move to the next line\n",
    "\n",
    "# Get user input\n",
    "num = int(input(\"Enter a positive integer number: \"))\n",
    "\n",
    "# Validate input\n",
    "if num <= 0:\n",
    "    print(\"Only positive numbers are accepted\")\n",
    "else:\n",
    "    Factors(num)\n",
    "        \n",
    "        \n",
    "        \n"
   ]
  },
  {
   "cell_type": "markdown",
   "metadata": {},
   "source": [
    "Task 4\n",
    "\n",
    "Write a program that contains the following lists of lists:\n",
    "\n",
    "universities = [\n",
    "    ['California Institute of Technology', 2175, 37704],\n",
    "    ['Harvard', 19627, 39849],\n",
    "    ['Massachusetts Institute of Technology', 10566, 40732],\n",
    "    ['Princeton', 7802, 37000],\n",
    "    ['Rice', 5879, 35551],\n",
    "    ['Stanford', 19535, 40569],\n",
    "    ['Yale', 11701, 40500]\n",
    "]\n",
    "\n",
    "Define a function, enrollment_stats(), that takes, as an input, a list of lists where each individual list contains three elements: (a) the name of a university, (b) the total number of enrolled students, and (c) the annual tuition fees.\n",
    "\n",
    "enrollment_stats() should return two lists: the first containing all of the student enrollment values and the second containing all of the tuition fees.\n",
    "\n",
    "Next, define a mean() and a median() function. Both functions should take a single list as an argument and return the mean and median of the values in each list.\n",
    "\n",
    "Using universities, enrollment_stats(), mean(), and median(), calculate the total number of students, the total tuition, the mean and median of the number of students, and the mean and median tuition values.\n",
    "\n",
    "Finally, output all values, and format the output so that it looks like this:\n",
    "\n",
    "******************************\n",
    "Total students: 77,285\n",
    "Total tuition: $ 271,905\n",
    "\n",
    "Student mean: 11,040.71\n",
    "Student median: 10,566\n",
    "\n",
    "Tuition mean: $ 38,843.57\n",
    "Tuition median: $ 39,849\n",
    "******************************\n"
   ]
  },
  {
   "cell_type": "code",
   "execution_count": null,
   "metadata": {},
   "outputs": [],
   "source": [
    "def enrollment_stat():\n",
    "    universities = [\n",
    "    ['California Institute of Technology', 2175, 37704],\n",
    "    ['Harvard', 19627, 39849],\n",
    "    ['Massachusetts Institute of Technology', 10566, 40732],\n",
    "    ['Princeton', 7802, 37000],\n",
    "    ['Rice', 5879, 35551],\n",
    "    ['Stanford', 19535, 40569],\n",
    "    ['Yale', 11701, 40500]\n",
    "]\n"
   ]
  }
 ],
 "metadata": {
  "kernelspec": {
   "display_name": "Python 3",
   "language": "python",
   "name": "python3"
  },
  "language_info": {
   "codemirror_mode": {
    "name": "ipython",
    "version": 3
   },
   "file_extension": ".py",
   "mimetype": "text/x-python",
   "name": "python",
   "nbconvert_exporter": "python",
   "pygments_lexer": "ipython3",
   "version": "3.13.2"
  }
 },
 "nbformat": 4,
 "nbformat_minor": 2
}
