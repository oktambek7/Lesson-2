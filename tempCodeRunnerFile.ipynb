class AverageList(list):
 property
 def average(self):
  sum(self)/len(self)
     
a=AverageList([1,2,3,5])
a.average()